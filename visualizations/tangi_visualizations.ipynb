{
 "cells": [
  {
   "cell_type": "code",
   "execution_count": null,
   "metadata": {},
   "outputs": [],
   "source": [
    "import numpy as np\n",
    "import pandas as pd\n",
    "import seaborn as sns\n",
    "import matplotlib.pyplot as plt"
   ]
  },
  {
   "cell_type": "code",
   "execution_count": null,
   "metadata": {},
   "outputs": [],
   "source": [
    "vg = pd.read_csv(\"VGSales.csv\")"
   ]
  },
  {
   "cell_type": "code",
   "execution_count": null,
   "metadata": {},
   "outputs": [],
   "source": [
    "vg.head()"
   ]
  },
  {
   "cell_type": "code",
   "execution_count": null,
   "metadata": {},
   "outputs": [],
   "source": [
    "vg.describe()"
   ]
  },
  {
   "attachments": {},
   "cell_type": "markdown",
   "metadata": {},
   "source": [
    "# *Line Graph of Sales by Genre from 1985-2016*"
   ]
  },
  {
   "cell_type": "code",
   "execution_count": null,
   "metadata": {},
   "outputs": [],
   "source": [
    "# Line Graph of Genres and their sales through the years\n",
    "plt.figure(figsize=(15, 10))\n",
    "ax = sns.lineplot(x = 'Year_of_Release', y = 'Global_Sales', hue = 'Genre', data = vg.reset_index(),\n",
    "                  err_style=None, palette='muted')\n",
    "ax.figure.set_size_inches(22, 8)\n",
    "ax.set_title('Sales by Genre from 1984-2016', fontsize=24)\n",
    "ax.set_xlabel('Year', fontsize=18)\n",
    "ax.set_ylabel('Global Sales (Millions)', fontsize=18)\n",
    "plt.legend(loc = 'upper right', fontsize = 12)\n",
    "plt.show()"
   ]
  },
  {
   "cell_type": "code",
   "execution_count": null,
   "metadata": {},
   "outputs": [],
   "source": [
    "# Pie Graph of Revenue by Area\n",
    "areas = [vg['NA_Sales'].sum(), vg['EU_Sales'].sum(), vg['JP_Sales'].sum(), vg['Other_Sales'].sum()]\n",
    "labels = ['North America', 'Europe', 'Japan', 'Rest of the World']\n",
    "explode = [0.05, 0.05, 0.05, 0.05]\n",
    "plt.pie(areas, labels= labels, shadow=True, autopct = '%.1f%%', startangle=50, explode = explode)\n",
    "plt.title(\"Video Game Sales Revenue by Area\")\n",
    "plt.show()\n"
   ]
  },
  {
   "cell_type": "code",
   "execution_count": null,
   "metadata": {},
   "outputs": [],
   "source": [
    "#Create DF from 1990-1999 (90s)\n",
    "vg90s = vg.loc[(vg[\"Year_of_Release\"] >= 1990) & (vg[\"Year_of_Release\"] <= 1999)].copy()\n",
    "vg90s"
   ]
  },
  {
   "cell_type": "code",
   "execution_count": null,
   "metadata": {},
   "outputs": [],
   "source": [
    "#Create DF from 2000-2009\n",
    "vg00s = vg.loc[(vg[\"Year_of_Release\"] >= 2000) & (vg[\"Year_of_Release\"] < 2010)].copy()\n",
    "vg00s"
   ]
  },
  {
   "cell_type": "code",
   "execution_count": null,
   "metadata": {},
   "outputs": [],
   "source": [
    "#Create DF from 2010-2016\n",
    "vg10s = vg.loc[vg[\"Year_of_Release\"] >= 2010].copy()\n",
    "vg10s"
   ]
  },
  {
   "cell_type": "code",
   "execution_count": null,
   "metadata": {},
   "outputs": [],
   "source": [
    "# Top Platforms (Globally)\n",
    "platforms = vg.groupby('Platform')['Global_Sales'].sum()\n",
    "plt.figure(figsize=(20, 8))\n",
    "sns.barplot(x = platforms.index, y = platforms.values)\n",
    "plt.title('Top Video Game Platforms by Global Sales')\n",
    "plt.xlabel('Platform')\n",
    "plt.ylabel('Global Sales')\n",
    "plt.show()"
   ]
  },
  {
   "cell_type": "code",
   "execution_count": null,
   "metadata": {},
   "outputs": [],
   "source": [
    "# Top Video Game Platforms by Global Sales in the 90s\n",
    "\n",
    "platforms90 = vg90s.groupby('Platform')['Global_Sales'].sum()\n",
    "\n",
    "plt.figure(figsize=(20, 8))\n",
    "sns.barplot(x = platforms90.index, y = platforms90.values)\n",
    "plt.title('Top Video Game Platforms by Global Sales in 90s')\n",
    "plt.xlabel('Platform')\n",
    "plt.ylabel('Global Sales')\n",
    "plt.show()"
   ]
  },
  {
   "cell_type": "code",
   "execution_count": null,
   "metadata": {},
   "outputs": [],
   "source": [
    "# Top Video Game Platforms by Global Sales from 2000-2009\n",
    "\n",
    "#Create DF from 2000-2009\n",
    "vg00s = vg.loc[(vg[\"Year_of_Release\"] >= 2000) & (vg[\"Year_of_Release\"] < 2009)].copy()\n",
    "platforms00 = vg00s.groupby('Platform')['Global_Sales'].sum()\n",
    "\n",
    "\n",
    "plt.figure(figsize=(20, 8))\n",
    "sns.barplot(x = platforms00.index, y = platforms00.values)\n",
    "plt.title('Top Video Game Platforms by Global Sales from 2000-2009')\n",
    "plt.xlabel('Platform')\n",
    "plt.ylabel('Global Sales')\n",
    "plt.show()\n",
    "\n"
   ]
  },
  {
   "cell_type": "code",
   "execution_count": null,
   "metadata": {},
   "outputs": [],
   "source": [
    "# Top Video Game Platforms by Global Sales from 2010-2016\n",
    "platforms10 = vg10s.groupby('Platform')['Global_Sales'].sum()\n",
    "\n",
    "plt.figure(figsize=(20, 8))\n",
    "sns.barplot(x = platforms10.index, y = platforms10.values)\n",
    "plt.title('Top Video Game Platforms by Global Sales in 2010s')\n",
    "plt.xlabel('Platform')\n",
    "plt.ylabel('Global Sales')\n",
    "plt.show()"
   ]
  },
  {
   "cell_type": "code",
   "execution_count": null,
   "metadata": {},
   "outputs": [],
   "source": [
    "top_10_90s = vg90s[:10]\n",
    "top_10_00s = vg00s[:10]\n",
    "top_10_10s = vg10s[:10]\n"
   ]
  },
  {
   "cell_type": "code",
   "execution_count": null,
   "metadata": {},
   "outputs": [],
   "source": [
    "#Top 10 Highest Selling Games Globally in 90s\n",
    "ax = sns.barplot(x = 'Name', y = \"Global_Sales\", data = top_10_90s, hue= \"Developer\")\n",
    "ax.figure.set_size_inches(14, 9)\n",
    "ax.set_title(\"Most Sold Video Games in 90s\", fontsize = 18)\n",
    "ax.set_ylabel('Global Sales (Millions)', fontsize = 18)\n",
    "ax.set_xlabel('Games', fontsize = 18)\n",
    "plt.xticks(rotation = 90)\n",
    "plt.show()"
   ]
  },
  {
   "cell_type": "code",
   "execution_count": null,
   "metadata": {},
   "outputs": [],
   "source": [
    "#Top 10 Highest Selling Games Globally in 2000s\n",
    "ax = sns.barplot(x = 'Name', y = \"Global_Sales\", data = top_10_00s, hue= \"Developer\")\n",
    "ax.figure.set_size_inches(14, 9)\n",
    "ax.set_title(\"Most Sold Video Games between 2000-2009\", fontsize = 18)\n",
    "ax.set_ylabel('Global Sales (Millions)', fontsize = 18)\n",
    "ax.set_xlabel('Games', fontsize = 18)\n",
    "plt.xticks(rotation = 90)\n",
    "plt.show()"
   ]
  },
  {
   "cell_type": "code",
   "execution_count": null,
   "metadata": {},
   "outputs": [],
   "source": [
    "#Top 10 Highest Selling Games Globally in 2010s\n",
    "ax = sns.barplot(x = 'Name', y = \"Global_Sales\", data = top_10_10s, hue= \"Developer\")\n",
    "ax.figure.set_size_inches(14, 9)\n",
    "ax.set_title(\"Most Sold Games in 2010s\", fontsize = 28)\n",
    "ax.set_ylabel('Global Sales (Millions)', fontsize = 18)\n",
    "ax.set_xlabel('Games', fontsize = 18)\n",
    "plt.xticks(rotation = 90)\n",
    "plt.show()"
   ]
  }
 ],
 "metadata": {
  "kernelspec": {
   "display_name": "base",
   "language": "python",
   "name": "python3"
  },
  "language_info": {
   "codemirror_mode": {
    "name": "ipython",
    "version": 3
   },
   "file_extension": ".py",
   "mimetype": "text/x-python",
   "name": "python",
   "nbconvert_exporter": "python",
   "pygments_lexer": "ipython3",
   "version": "3.9.16"
  },
  "orig_nbformat": 4
 },
 "nbformat": 4,
 "nbformat_minor": 2
}
